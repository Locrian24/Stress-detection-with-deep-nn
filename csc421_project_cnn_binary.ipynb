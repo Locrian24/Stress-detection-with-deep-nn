{
  "nbformat": 4,
  "nbformat_minor": 0,
  "metadata": {
    "colab": {
      "name": "csc421_project_cnn_binary.ipynb",
      "provenance": [],
      "collapsed_sections": [],
      "mount_file_id": "1DWTq8mhJn6JDfqwkFHEYj_5-4JaDDVBN",
      "authorship_tag": "ABX9TyPt1GnrzPwFettQ8lPsDjth",
      "include_colab_link": true
    },
    "kernelspec": {
      "name": "python3",
      "display_name": "Python 3"
    },
    "language_info": {
      "name": "python"
    },
    "accelerator": "GPU",
    "widgets": {
      "application/vnd.jupyter.widget-state+json": {
        "b8c64cd376f54b71bd36f010c6bb5161": {
          "model_module": "@jupyter-widgets/controls",
          "model_name": "HBoxModel",
          "model_module_version": "1.5.0",
          "state": {
            "_dom_classes": [],
            "_model_module": "@jupyter-widgets/controls",
            "_model_module_version": "1.5.0",
            "_model_name": "HBoxModel",
            "_view_count": null,
            "_view_module": "@jupyter-widgets/controls",
            "_view_module_version": "1.5.0",
            "_view_name": "HBoxView",
            "box_style": "",
            "children": [
              "IPY_MODEL_ef7e061efcf644ca8db66b5273bc379f",
              "IPY_MODEL_d90157cbb60b48fc9f7943f4028b4026",
              "IPY_MODEL_3b7737c2b32d4965a36ec7bb65dbb25b"
            ],
            "layout": "IPY_MODEL_ba3ac75a055a416a930e73f37c711f10"
          }
        },
        "ef7e061efcf644ca8db66b5273bc379f": {
          "model_module": "@jupyter-widgets/controls",
          "model_name": "HTMLModel",
          "model_module_version": "1.5.0",
          "state": {
            "_dom_classes": [],
            "_model_module": "@jupyter-widgets/controls",
            "_model_module_version": "1.5.0",
            "_model_name": "HTMLModel",
            "_view_count": null,
            "_view_module": "@jupyter-widgets/controls",
            "_view_module_version": "1.5.0",
            "_view_name": "HTMLView",
            "description": "",
            "description_tooltip": null,
            "layout": "IPY_MODEL_4134492369be453fae43acede9b7b747",
            "placeholder": "​",
            "style": "IPY_MODEL_3a5675a5b319448cb703ddce4891ed70",
            "value": "Epoch 99: "
          }
        },
        "d90157cbb60b48fc9f7943f4028b4026": {
          "model_module": "@jupyter-widgets/controls",
          "model_name": "FloatProgressModel",
          "model_module_version": "1.5.0",
          "state": {
            "_dom_classes": [],
            "_model_module": "@jupyter-widgets/controls",
            "_model_module_version": "1.5.0",
            "_model_name": "FloatProgressModel",
            "_view_count": null,
            "_view_module": "@jupyter-widgets/controls",
            "_view_module_version": "1.5.0",
            "_view_name": "ProgressView",
            "bar_style": "success",
            "description": "",
            "description_tooltip": null,
            "layout": "IPY_MODEL_7d4f66cd424b4e7495a5be2e7a1694ee",
            "max": 1,
            "min": 0,
            "orientation": "horizontal",
            "style": "IPY_MODEL_5bc4d583ecbc457d804d843f7a0e82d4",
            "value": 1
          }
        },
        "3b7737c2b32d4965a36ec7bb65dbb25b": {
          "model_module": "@jupyter-widgets/controls",
          "model_name": "HTMLModel",
          "model_module_version": "1.5.0",
          "state": {
            "_dom_classes": [],
            "_model_module": "@jupyter-widgets/controls",
            "_model_module_version": "1.5.0",
            "_model_name": "HTMLModel",
            "_view_count": null,
            "_view_module": "@jupyter-widgets/controls",
            "_view_module_version": "1.5.0",
            "_view_name": "HTMLView",
            "description": "",
            "description_tooltip": null,
            "layout": "IPY_MODEL_b060041a119a4e7aa8dd653a3b01edfe",
            "placeholder": "​",
            "style": "IPY_MODEL_953ed1e2b4a74aca834488c92ff55fd4",
            "value": " 280/? [27:50&lt;00:00,  5.97s/it, loss=0.0296, v_num=0]"
          }
        },
        "ba3ac75a055a416a930e73f37c711f10": {
          "model_module": "@jupyter-widgets/base",
          "model_name": "LayoutModel",
          "model_module_version": "1.2.0",
          "state": {
            "_model_module": "@jupyter-widgets/base",
            "_model_module_version": "1.2.0",
            "_model_name": "LayoutModel",
            "_view_count": null,
            "_view_module": "@jupyter-widgets/base",
            "_view_module_version": "1.2.0",
            "_view_name": "LayoutView",
            "align_content": null,
            "align_items": null,
            "align_self": null,
            "border": null,
            "bottom": null,
            "display": "inline-flex",
            "flex": null,
            "flex_flow": "row wrap",
            "grid_area": null,
            "grid_auto_columns": null,
            "grid_auto_flow": null,
            "grid_auto_rows": null,
            "grid_column": null,
            "grid_gap": null,
            "grid_row": null,
            "grid_template_areas": null,
            "grid_template_columns": null,
            "grid_template_rows": null,
            "height": null,
            "justify_content": null,
            "justify_items": null,
            "left": null,
            "margin": null,
            "max_height": null,
            "max_width": null,
            "min_height": null,
            "min_width": null,
            "object_fit": null,
            "object_position": null,
            "order": null,
            "overflow": null,
            "overflow_x": null,
            "overflow_y": null,
            "padding": null,
            "right": null,
            "top": null,
            "visibility": null,
            "width": "100%"
          }
        },
        "4134492369be453fae43acede9b7b747": {
          "model_module": "@jupyter-widgets/base",
          "model_name": "LayoutModel",
          "model_module_version": "1.2.0",
          "state": {
            "_model_module": "@jupyter-widgets/base",
            "_model_module_version": "1.2.0",
            "_model_name": "LayoutModel",
            "_view_count": null,
            "_view_module": "@jupyter-widgets/base",
            "_view_module_version": "1.2.0",
            "_view_name": "LayoutView",
            "align_content": null,
            "align_items": null,
            "align_self": null,
            "border": null,
            "bottom": null,
            "display": null,
            "flex": null,
            "flex_flow": null,
            "grid_area": null,
            "grid_auto_columns": null,
            "grid_auto_flow": null,
            "grid_auto_rows": null,
            "grid_column": null,
            "grid_gap": null,
            "grid_row": null,
            "grid_template_areas": null,
            "grid_template_columns": null,
            "grid_template_rows": null,
            "height": null,
            "justify_content": null,
            "justify_items": null,
            "left": null,
            "margin": null,
            "max_height": null,
            "max_width": null,
            "min_height": null,
            "min_width": null,
            "object_fit": null,
            "object_position": null,
            "order": null,
            "overflow": null,
            "overflow_x": null,
            "overflow_y": null,
            "padding": null,
            "right": null,
            "top": null,
            "visibility": null,
            "width": null
          }
        },
        "3a5675a5b319448cb703ddce4891ed70": {
          "model_module": "@jupyter-widgets/controls",
          "model_name": "DescriptionStyleModel",
          "model_module_version": "1.5.0",
          "state": {
            "_model_module": "@jupyter-widgets/controls",
            "_model_module_version": "1.5.0",
            "_model_name": "DescriptionStyleModel",
            "_view_count": null,
            "_view_module": "@jupyter-widgets/base",
            "_view_module_version": "1.2.0",
            "_view_name": "StyleView",
            "description_width": ""
          }
        },
        "7d4f66cd424b4e7495a5be2e7a1694ee": {
          "model_module": "@jupyter-widgets/base",
          "model_name": "LayoutModel",
          "model_module_version": "1.2.0",
          "state": {
            "_model_module": "@jupyter-widgets/base",
            "_model_module_version": "1.2.0",
            "_model_name": "LayoutModel",
            "_view_count": null,
            "_view_module": "@jupyter-widgets/base",
            "_view_module_version": "1.2.0",
            "_view_name": "LayoutView",
            "align_content": null,
            "align_items": null,
            "align_self": null,
            "border": null,
            "bottom": null,
            "display": null,
            "flex": "2",
            "flex_flow": null,
            "grid_area": null,
            "grid_auto_columns": null,
            "grid_auto_flow": null,
            "grid_auto_rows": null,
            "grid_column": null,
            "grid_gap": null,
            "grid_row": null,
            "grid_template_areas": null,
            "grid_template_columns": null,
            "grid_template_rows": null,
            "height": null,
            "justify_content": null,
            "justify_items": null,
            "left": null,
            "margin": null,
            "max_height": null,
            "max_width": null,
            "min_height": null,
            "min_width": null,
            "object_fit": null,
            "object_position": null,
            "order": null,
            "overflow": null,
            "overflow_x": null,
            "overflow_y": null,
            "padding": null,
            "right": null,
            "top": null,
            "visibility": null,
            "width": null
          }
        },
        "5bc4d583ecbc457d804d843f7a0e82d4": {
          "model_module": "@jupyter-widgets/controls",
          "model_name": "ProgressStyleModel",
          "model_module_version": "1.5.0",
          "state": {
            "_model_module": "@jupyter-widgets/controls",
            "_model_module_version": "1.5.0",
            "_model_name": "ProgressStyleModel",
            "_view_count": null,
            "_view_module": "@jupyter-widgets/base",
            "_view_module_version": "1.2.0",
            "_view_name": "StyleView",
            "bar_color": null,
            "description_width": ""
          }
        },
        "b060041a119a4e7aa8dd653a3b01edfe": {
          "model_module": "@jupyter-widgets/base",
          "model_name": "LayoutModel",
          "model_module_version": "1.2.0",
          "state": {
            "_model_module": "@jupyter-widgets/base",
            "_model_module_version": "1.2.0",
            "_model_name": "LayoutModel",
            "_view_count": null,
            "_view_module": "@jupyter-widgets/base",
            "_view_module_version": "1.2.0",
            "_view_name": "LayoutView",
            "align_content": null,
            "align_items": null,
            "align_self": null,
            "border": null,
            "bottom": null,
            "display": null,
            "flex": null,
            "flex_flow": null,
            "grid_area": null,
            "grid_auto_columns": null,
            "grid_auto_flow": null,
            "grid_auto_rows": null,
            "grid_column": null,
            "grid_gap": null,
            "grid_row": null,
            "grid_template_areas": null,
            "grid_template_columns": null,
            "grid_template_rows": null,
            "height": null,
            "justify_content": null,
            "justify_items": null,
            "left": null,
            "margin": null,
            "max_height": null,
            "max_width": null,
            "min_height": null,
            "min_width": null,
            "object_fit": null,
            "object_position": null,
            "order": null,
            "overflow": null,
            "overflow_x": null,
            "overflow_y": null,
            "padding": null,
            "right": null,
            "top": null,
            "visibility": null,
            "width": null
          }
        },
        "953ed1e2b4a74aca834488c92ff55fd4": {
          "model_module": "@jupyter-widgets/controls",
          "model_name": "DescriptionStyleModel",
          "model_module_version": "1.5.0",
          "state": {
            "_model_module": "@jupyter-widgets/controls",
            "_model_module_version": "1.5.0",
            "_model_name": "DescriptionStyleModel",
            "_view_count": null,
            "_view_module": "@jupyter-widgets/base",
            "_view_module_version": "1.2.0",
            "_view_name": "StyleView",
            "description_width": ""
          }
        },
        "511a8f91987143e6ab93ac135fc0fe5f": {
          "model_module": "@jupyter-widgets/controls",
          "model_name": "HBoxModel",
          "model_module_version": "1.5.0",
          "state": {
            "_dom_classes": [],
            "_model_module": "@jupyter-widgets/controls",
            "_model_module_version": "1.5.0",
            "_model_name": "HBoxModel",
            "_view_count": null,
            "_view_module": "@jupyter-widgets/controls",
            "_view_module_version": "1.5.0",
            "_view_name": "HBoxView",
            "box_style": "",
            "children": [
              "IPY_MODEL_50faeddda9ab48848e04497c7d7bb135",
              "IPY_MODEL_557c37edb8584a6fb42436ff07ad1abb",
              "IPY_MODEL_89dea97e450c400bb79d2b015c2862c9"
            ],
            "layout": "IPY_MODEL_f67fde5e2add4aed8192fef167e393c8"
          }
        },
        "50faeddda9ab48848e04497c7d7bb135": {
          "model_module": "@jupyter-widgets/controls",
          "model_name": "HTMLModel",
          "model_module_version": "1.5.0",
          "state": {
            "_dom_classes": [],
            "_model_module": "@jupyter-widgets/controls",
            "_model_module_version": "1.5.0",
            "_model_name": "HTMLModel",
            "_view_count": null,
            "_view_module": "@jupyter-widgets/controls",
            "_view_module_version": "1.5.0",
            "_view_name": "HTMLView",
            "description": "",
            "description_tooltip": null,
            "layout": "IPY_MODEL_701cc723d9414ae3b5d4423602282eef",
            "placeholder": "​",
            "style": "IPY_MODEL_2c9d560c16bd4ca1a49a03f7662140a3",
            "value": "Testing: "
          }
        },
        "557c37edb8584a6fb42436ff07ad1abb": {
          "model_module": "@jupyter-widgets/controls",
          "model_name": "FloatProgressModel",
          "model_module_version": "1.5.0",
          "state": {
            "_dom_classes": [],
            "_model_module": "@jupyter-widgets/controls",
            "_model_module_version": "1.5.0",
            "_model_name": "FloatProgressModel",
            "_view_count": null,
            "_view_module": "@jupyter-widgets/controls",
            "_view_module_version": "1.5.0",
            "_view_name": "ProgressView",
            "bar_style": "success",
            "description": "",
            "description_tooltip": null,
            "layout": "IPY_MODEL_6be5441e88f2454093f9ffac29d1c3ae",
            "max": 1,
            "min": 0,
            "orientation": "horizontal",
            "style": "IPY_MODEL_77155901d57a4f2eb8cb03de512cd849",
            "value": 1
          }
        },
        "89dea97e450c400bb79d2b015c2862c9": {
          "model_module": "@jupyter-widgets/controls",
          "model_name": "HTMLModel",
          "model_module_version": "1.5.0",
          "state": {
            "_dom_classes": [],
            "_model_module": "@jupyter-widgets/controls",
            "_model_module_version": "1.5.0",
            "_model_name": "HTMLModel",
            "_view_count": null,
            "_view_module": "@jupyter-widgets/controls",
            "_view_module_version": "1.5.0",
            "_view_name": "HTMLView",
            "description": "",
            "description_tooltip": null,
            "layout": "IPY_MODEL_60ef6c3211fd46e98961db1d4655bc07",
            "placeholder": "​",
            "style": "IPY_MODEL_efad39bb53da49aabc6f3b41d103c965",
            "value": " 120/? [00:08&lt;00:00, 14.17it/s]"
          }
        },
        "f67fde5e2add4aed8192fef167e393c8": {
          "model_module": "@jupyter-widgets/base",
          "model_name": "LayoutModel",
          "model_module_version": "1.2.0",
          "state": {
            "_model_module": "@jupyter-widgets/base",
            "_model_module_version": "1.2.0",
            "_model_name": "LayoutModel",
            "_view_count": null,
            "_view_module": "@jupyter-widgets/base",
            "_view_module_version": "1.2.0",
            "_view_name": "LayoutView",
            "align_content": null,
            "align_items": null,
            "align_self": null,
            "border": null,
            "bottom": null,
            "display": "inline-flex",
            "flex": null,
            "flex_flow": "row wrap",
            "grid_area": null,
            "grid_auto_columns": null,
            "grid_auto_flow": null,
            "grid_auto_rows": null,
            "grid_column": null,
            "grid_gap": null,
            "grid_row": null,
            "grid_template_areas": null,
            "grid_template_columns": null,
            "grid_template_rows": null,
            "height": null,
            "justify_content": null,
            "justify_items": null,
            "left": null,
            "margin": null,
            "max_height": null,
            "max_width": null,
            "min_height": null,
            "min_width": null,
            "object_fit": null,
            "object_position": null,
            "order": null,
            "overflow": null,
            "overflow_x": null,
            "overflow_y": null,
            "padding": null,
            "right": null,
            "top": null,
            "visibility": null,
            "width": "100%"
          }
        },
        "701cc723d9414ae3b5d4423602282eef": {
          "model_module": "@jupyter-widgets/base",
          "model_name": "LayoutModel",
          "model_module_version": "1.2.0",
          "state": {
            "_model_module": "@jupyter-widgets/base",
            "_model_module_version": "1.2.0",
            "_model_name": "LayoutModel",
            "_view_count": null,
            "_view_module": "@jupyter-widgets/base",
            "_view_module_version": "1.2.0",
            "_view_name": "LayoutView",
            "align_content": null,
            "align_items": null,
            "align_self": null,
            "border": null,
            "bottom": null,
            "display": null,
            "flex": null,
            "flex_flow": null,
            "grid_area": null,
            "grid_auto_columns": null,
            "grid_auto_flow": null,
            "grid_auto_rows": null,
            "grid_column": null,
            "grid_gap": null,
            "grid_row": null,
            "grid_template_areas": null,
            "grid_template_columns": null,
            "grid_template_rows": null,
            "height": null,
            "justify_content": null,
            "justify_items": null,
            "left": null,
            "margin": null,
            "max_height": null,
            "max_width": null,
            "min_height": null,
            "min_width": null,
            "object_fit": null,
            "object_position": null,
            "order": null,
            "overflow": null,
            "overflow_x": null,
            "overflow_y": null,
            "padding": null,
            "right": null,
            "top": null,
            "visibility": null,
            "width": null
          }
        },
        "2c9d560c16bd4ca1a49a03f7662140a3": {
          "model_module": "@jupyter-widgets/controls",
          "model_name": "DescriptionStyleModel",
          "model_module_version": "1.5.0",
          "state": {
            "_model_module": "@jupyter-widgets/controls",
            "_model_module_version": "1.5.0",
            "_model_name": "DescriptionStyleModel",
            "_view_count": null,
            "_view_module": "@jupyter-widgets/base",
            "_view_module_version": "1.2.0",
            "_view_name": "StyleView",
            "description_width": ""
          }
        },
        "6be5441e88f2454093f9ffac29d1c3ae": {
          "model_module": "@jupyter-widgets/base",
          "model_name": "LayoutModel",
          "model_module_version": "1.2.0",
          "state": {
            "_model_module": "@jupyter-widgets/base",
            "_model_module_version": "1.2.0",
            "_model_name": "LayoutModel",
            "_view_count": null,
            "_view_module": "@jupyter-widgets/base",
            "_view_module_version": "1.2.0",
            "_view_name": "LayoutView",
            "align_content": null,
            "align_items": null,
            "align_self": null,
            "border": null,
            "bottom": null,
            "display": null,
            "flex": "2",
            "flex_flow": null,
            "grid_area": null,
            "grid_auto_columns": null,
            "grid_auto_flow": null,
            "grid_auto_rows": null,
            "grid_column": null,
            "grid_gap": null,
            "grid_row": null,
            "grid_template_areas": null,
            "grid_template_columns": null,
            "grid_template_rows": null,
            "height": null,
            "justify_content": null,
            "justify_items": null,
            "left": null,
            "margin": null,
            "max_height": null,
            "max_width": null,
            "min_height": null,
            "min_width": null,
            "object_fit": null,
            "object_position": null,
            "order": null,
            "overflow": null,
            "overflow_x": null,
            "overflow_y": null,
            "padding": null,
            "right": null,
            "top": null,
            "visibility": null,
            "width": null
          }
        },
        "77155901d57a4f2eb8cb03de512cd849": {
          "model_module": "@jupyter-widgets/controls",
          "model_name": "ProgressStyleModel",
          "model_module_version": "1.5.0",
          "state": {
            "_model_module": "@jupyter-widgets/controls",
            "_model_module_version": "1.5.0",
            "_model_name": "ProgressStyleModel",
            "_view_count": null,
            "_view_module": "@jupyter-widgets/base",
            "_view_module_version": "1.2.0",
            "_view_name": "StyleView",
            "bar_color": null,
            "description_width": ""
          }
        },
        "60ef6c3211fd46e98961db1d4655bc07": {
          "model_module": "@jupyter-widgets/base",
          "model_name": "LayoutModel",
          "model_module_version": "1.2.0",
          "state": {
            "_model_module": "@jupyter-widgets/base",
            "_model_module_version": "1.2.0",
            "_model_name": "LayoutModel",
            "_view_count": null,
            "_view_module": "@jupyter-widgets/base",
            "_view_module_version": "1.2.0",
            "_view_name": "LayoutView",
            "align_content": null,
            "align_items": null,
            "align_self": null,
            "border": null,
            "bottom": null,
            "display": null,
            "flex": null,
            "flex_flow": null,
            "grid_area": null,
            "grid_auto_columns": null,
            "grid_auto_flow": null,
            "grid_auto_rows": null,
            "grid_column": null,
            "grid_gap": null,
            "grid_row": null,
            "grid_template_areas": null,
            "grid_template_columns": null,
            "grid_template_rows": null,
            "height": null,
            "justify_content": null,
            "justify_items": null,
            "left": null,
            "margin": null,
            "max_height": null,
            "max_width": null,
            "min_height": null,
            "min_width": null,
            "object_fit": null,
            "object_position": null,
            "order": null,
            "overflow": null,
            "overflow_x": null,
            "overflow_y": null,
            "padding": null,
            "right": null,
            "top": null,
            "visibility": null,
            "width": null
          }
        },
        "efad39bb53da49aabc6f3b41d103c965": {
          "model_module": "@jupyter-widgets/controls",
          "model_name": "DescriptionStyleModel",
          "model_module_version": "1.5.0",
          "state": {
            "_model_module": "@jupyter-widgets/controls",
            "_model_module_version": "1.5.0",
            "_model_name": "DescriptionStyleModel",
            "_view_count": null,
            "_view_module": "@jupyter-widgets/base",
            "_view_module_version": "1.2.0",
            "_view_name": "StyleView",
            "description_width": ""
          }
        }
      }
    }
  },
  "cells": [
    {
      "cell_type": "markdown",
      "metadata": {
        "id": "view-in-github",
        "colab_type": "text"
      },
      "source": [
        "<a href=\"https://colab.research.google.com/github/Locrian24/csc421-project-stress-classification/blob/main/csc421_project_cnn_binary.ipynb\" target=\"_parent\"><img src=\"https://colab.research.google.com/assets/colab-badge.svg\" alt=\"Open In Colab\"/></a>"
      ]
    },
    {
      "cell_type": "code",
      "source": [
        "from google.colab import drive\n",
        "drive.mount('/content/drive')"
      ],
      "metadata": {
        "id": "casP87SYEop6",
        "colab": {
          "base_uri": "https://localhost:8080/"
        },
        "outputId": "698ec17f-a5a9-43b9-bb41-6f56167ef2d6"
      },
      "execution_count": null,
      "outputs": [
        {
          "output_type": "stream",
          "name": "stdout",
          "text": [
            "Drive already mounted at /content/drive; to attempt to forcibly remount, call drive.mount(\"/content/drive\", force_remount=True).\n"
          ]
        }
      ]
    },
    {
      "cell_type": "code",
      "source": [
        "!cp /content/drive/MyDrive/WESAD_RespiBAN_train.tar .\n",
        "!cp /content/drive/MyDrive/WESAD_RespiBAN_test.tar ."
      ],
      "metadata": {
        "id": "jdVAOs2qEnzc"
      },
      "execution_count": null,
      "outputs": []
    },
    {
      "cell_type": "code",
      "source": [
        "%%capture\n",
        "!pip install webdataset\n",
        "!pip install pytorch_lightning"
      ],
      "metadata": {
        "colab": {
          "base_uri": "https://localhost:8080/"
        },
        "id": "Tbwg-qMSBiuc",
        "outputId": "4d0a91bb-03e9-490d-cf1e-8c0d6fba89b3"
      },
      "execution_count": null,
      "outputs": [
        {
          "output_type": "stream",
          "name": "stdout",
          "text": [
            "Requirement already satisfied: webdataset in /usr/local/lib/python3.7/dist-packages (0.2.5)\n",
            "Requirement already satisfied: numpy in /usr/local/lib/python3.7/dist-packages (from webdataset) (1.21.5)\n",
            "Requirement already satisfied: pyyaml in /usr/local/lib/python3.7/dist-packages (from webdataset) (3.13)\n",
            "Requirement already satisfied: braceexpand in /usr/local/lib/python3.7/dist-packages (from webdataset) (0.1.7)\n"
          ]
        }
      ]
    },
    {
      "cell_type": "code",
      "execution_count": null,
      "metadata": {
        "id": "yRUdv_c-G70X"
      },
      "outputs": [],
      "source": [
        "import torch\n",
        "import torch.nn as nn\n",
        "import torchvision.transforms as transforms\n",
        "import webdataset as wds\n",
        "import pytorch_lightning as pl\n",
        "import logging\n",
        "from torchmetrics.functional import accuracy"
      ]
    },
    {
      "cell_type": "code",
      "source": [
        "LEARNING_RATE = 0.0001\n",
        "BATCH_SIZE = 40\n",
        "NUM_EPOCHS = 100"
      ],
      "metadata": {
        "id": "S2792NAEFuyz"
      },
      "execution_count": null,
      "outputs": []
    },
    {
      "cell_type": "code",
      "source": [
        "def conv_block():\n",
        "  block = nn.Sequential(\n",
        "      nn.Conv1d(in_channels=1, out_channels=8, kernel_size=32, stride=2, padding=1),\n",
        "      nn.ReLU(),\n",
        "      nn.MaxPool1d(4, 4),\n",
        "      nn.Conv1d(in_channels=8, out_channels=16, kernel_size=7, stride=2, padding=1),\n",
        "      nn.ReLU(),\n",
        "      nn.MaxPool1d(4, 4),\n",
        "      nn.Conv1d(in_channels=16, out_channels=32, kernel_size=3, stride=1, padding=2),\n",
        "      nn.ReLU(),\n",
        "      nn.MaxPool1d(2, 2),\n",
        "  )\n",
        "\n",
        "  return block"
      ],
      "metadata": {
        "id": "cKVol97CHBAQ"
      },
      "execution_count": null,
      "outputs": []
    },
    {
      "cell_type": "code",
      "source": [
        "class BinaryStressClassifier(pl.LightningModule):\n",
        "  def __init__(self):\n",
        "    super().__init__()\n",
        "    self.conv_block = conv_block()\n",
        "    self.fc1 = nn.Sequential(\n",
        "        nn.Linear(6912, 32),\n",
        "        nn.ReLU()\n",
        "    )\n",
        "    self.fc2 = nn.Sequential(\n",
        "        nn.Linear(32, 16),\n",
        "        nn.ReLU()\n",
        "    )\n",
        "    self.fc3 = nn.Sequential(\n",
        "        nn.Linear(16, 1),\n",
        "        nn.Sigmoid()\n",
        "    )\n",
        "\n",
        "    self.criterion = nn.BCELoss()\n",
        "  \n",
        "  def forward(self, X):\n",
        "    X = X.float()\n",
        "\n",
        "    ECG_x = self.conv_block(X[:,:,0])\n",
        "    EDA_x = self.conv_block(X[:,:,1])\n",
        "    EMG_x = self.conv_block(X[:,:,2])\n",
        "    Temp_x = self.conv_block(X[:,:,3])\n",
        "    Resp_x = self.conv_block(X[:,:,4])\n",
        "    ACC_x_x = self.conv_block(X[:,:,5])\n",
        "    ACC_y_x = self.conv_block(X[:,:,6])\n",
        "    ACC_z_x = self.conv_block(X[:,:,7])\n",
        "\n",
        "    ECG_x = torch.flatten(ECG_x, 1)\n",
        "    EDA_x = torch.flatten(EDA_x, 1)\n",
        "    EMG_x = torch.flatten(EMG_x, 1)\n",
        "    Temp_x = torch.flatten(Temp_x, 1)\n",
        "    Resp_x = torch.flatten(Resp_x, 1)\n",
        "    ACC_x_x = torch.flatten(ACC_x_x, 1)\n",
        "    ACC_y_x = torch.flatten(ACC_y_x, 1)\n",
        "    ACC_z_x = torch.flatten(ACC_z_x, 1)\n",
        "\n",
        "    x = torch.cat((ECG_x,EDA_x,EMG_x,Temp_x,Resp_x,ACC_x_x,ACC_y_x,ACC_z_x), dim=1)\n",
        "\n",
        "    x = self.fc1(x)\n",
        "    x = self.fc2(x)\n",
        "    x = self.fc3(x)\n",
        "\n",
        "    return x\n",
        "\n",
        "  def train_dataloader(self):\n",
        "    dataset = (\n",
        "      wds.WebDataset('WESAD_RespiBAN_train.tar')\n",
        "        .shuffle(4 * BATCH_SIZE)\n",
        "        .decode()\n",
        "        .to_tuple(\"input.npy\", \"label.cls\")\n",
        "        .map_tuple(transforms.ToTensor(), lambda x: 1 if x == 2 else 0 ) # Map labels for binary classification (2 = \"stress\")\n",
        "    )\n",
        "\n",
        "    return torch.utils.data.DataLoader(dataset, batch_size=BATCH_SIZE)\n",
        "\n",
        "  def test_dataloader(self):\n",
        "    dataset = (\n",
        "      wds.WebDataset('WESAD_RespiBAN_test.tar')\n",
        "        .decode()\n",
        "        .to_tuple(\"input.npy\", \"label.cls\")\n",
        "        .map_tuple(transforms.ToTensor(), lambda x: 1 if x == 2 else 0 ) # Map labels for binary classification (2 = \"stress\")\n",
        "    )\n",
        "\n",
        "    return torch.utils.data.DataLoader(dataset, batch_size=BATCH_SIZE)\n",
        "\n",
        "  def configure_optimizers(self):\n",
        "    return torch.optim.Adam(self.parameters(), lr=1e-4)\n",
        "\n",
        "  def training_step(self, batch, batch_idx):\n",
        "    inputs, labels = batch\n",
        "    outputs = self.forward(inputs)\n",
        "    labels = labels.unsqueeze(1).float()\n",
        "    loss = self.criterion(outputs, labels)\n",
        "\n",
        "    return dict(loss = loss)\n",
        "\n",
        "  def test_step(self, batch, batch_idx):\n",
        "    inputs, labels = batch\n",
        "    outputs = self.forward(inputs)\n",
        "    acc = accuracy(outputs, labels)\n",
        "\n",
        "    self.log(\"accuracy:\", acc, prog_bar=True)\n",
        "\n",
        "classifier = BinaryStressClassifier()\n"
      ],
      "metadata": {
        "id": "jaL97HENe3XZ"
      },
      "execution_count": null,
      "outputs": []
    },
    {
      "cell_type": "code",
      "source": [
        "trainer = pl.Trainer(max_epochs=NUM_EPOCHS, accelerator=\"auto\")\n",
        "logging.getLogger(\"lightning\").setLevel(logging.WARNING)"
      ],
      "metadata": {
        "colab": {
          "base_uri": "https://localhost:8080/"
        },
        "id": "AcFuQKQ23ton",
        "outputId": "63a47e14-8eeb-4710-bac0-0a21593d4167"
      },
      "execution_count": null,
      "outputs": [
        {
          "output_type": "stream",
          "name": "stderr",
          "text": [
            "GPU available: True, used: True\n",
            "TPU available: False, using: 0 TPU cores\n",
            "IPU available: False, using: 0 IPUs\n",
            "HPU available: False, using: 0 HPUs\n"
          ]
        }
      ]
    },
    {
      "cell_type": "code",
      "source": [
        "trainer.fit(classifier)"
      ],
      "metadata": {
        "colab": {
          "base_uri": "https://localhost:8080/",
          "height": 379,
          "referenced_widgets": [
            "b8c64cd376f54b71bd36f010c6bb5161",
            "ef7e061efcf644ca8db66b5273bc379f",
            "d90157cbb60b48fc9f7943f4028b4026",
            "3b7737c2b32d4965a36ec7bb65dbb25b",
            "ba3ac75a055a416a930e73f37c711f10",
            "4134492369be453fae43acede9b7b747",
            "3a5675a5b319448cb703ddce4891ed70",
            "7d4f66cd424b4e7495a5be2e7a1694ee",
            "5bc4d583ecbc457d804d843f7a0e82d4",
            "b060041a119a4e7aa8dd653a3b01edfe",
            "953ed1e2b4a74aca834488c92ff55fd4"
          ]
        },
        "id": "NHqAVtAYgVCI",
        "outputId": "9175d198-5b85-429c-c35c-dc5898939885"
      },
      "execution_count": null,
      "outputs": [
        {
          "output_type": "stream",
          "name": "stderr",
          "text": [
            "GPU available: True, used: True\n",
            "TPU available: False, using: 0 TPU cores\n",
            "IPU available: False, using: 0 IPUs\n",
            "HPU available: False, using: 0 HPUs\n",
            "Missing logger folder: /content/lightning_logs\n",
            "LOCAL_RANK: 0 - CUDA_VISIBLE_DEVICES: [0]\n",
            "\n",
            "  | Name       | Type       | Params\n",
            "------------------------------------------\n",
            "0 | conv_block | Sequential | 2.7 K \n",
            "1 | fc1        | Sequential | 221 K \n",
            "2 | fc2        | Sequential | 528   \n",
            "3 | fc3        | Sequential | 17    \n",
            "4 | criterion  | BCELoss    | 0     \n",
            "------------------------------------------\n",
            "224 K     Trainable params\n",
            "0         Non-trainable params\n",
            "224 K     Total params\n",
            "0.898     Total estimated model params size (MB)\n"
          ]
        },
        {
          "output_type": "display_data",
          "data": {
            "text/plain": [
              "Training: 0it [00:00, ?it/s]"
            ],
            "application/vnd.jupyter.widget-view+json": {
              "version_major": 2,
              "version_minor": 0,
              "model_id": "b8c64cd376f54b71bd36f010c6bb5161"
            }
          },
          "metadata": {}
        }
      ]
    },
    {
      "cell_type": "code",
      "source": [
        "# trainer.save_checkpoint(\"cnn_1.ckpt\")"
      ],
      "metadata": {
        "id": "SkhwMXWO3Cvr"
      },
      "execution_count": null,
      "outputs": []
    },
    {
      "cell_type": "code",
      "source": [
        "# model = BinaryStressClassifier.load_from_checkpoint(\"./cnn_1.ckpt\")"
      ],
      "metadata": {
        "id": "FFZO5yQT6HXA"
      },
      "execution_count": null,
      "outputs": []
    },
    {
      "cell_type": "code",
      "source": [
        "test_trainer = pl.Trainer(accelerator=\"gpu\", devices=1)\n",
        "trainer.test(classifier)"
      ],
      "metadata": {
        "colab": {
          "base_uri": "https://localhost:8080/",
          "height": 295,
          "referenced_widgets": [
            "511a8f91987143e6ab93ac135fc0fe5f",
            "50faeddda9ab48848e04497c7d7bb135",
            "557c37edb8584a6fb42436ff07ad1abb",
            "89dea97e450c400bb79d2b015c2862c9",
            "f67fde5e2add4aed8192fef167e393c8",
            "701cc723d9414ae3b5d4423602282eef",
            "2c9d560c16bd4ca1a49a03f7662140a3",
            "6be5441e88f2454093f9ffac29d1c3ae",
            "77155901d57a4f2eb8cb03de512cd849",
            "60ef6c3211fd46e98961db1d4655bc07",
            "efad39bb53da49aabc6f3b41d103c965"
          ]
        },
        "id": "6ejX7IKR3F2X",
        "outputId": "de575f81-6d34-4f10-aeb8-cf52ce523349"
      },
      "execution_count": null,
      "outputs": [
        {
          "output_type": "stream",
          "name": "stderr",
          "text": [
            "/usr/local/lib/python3.7/dist-packages/pytorch_lightning/loops/utilities.py:94: PossibleUserWarning: `max_epochs` was not set. Setting it to 1000 epochs. To train without an epoch limit, set `max_epochs=-1`.\n",
            "  category=PossibleUserWarning,\n",
            "GPU available: True, used: True\n",
            "TPU available: False, using: 0 TPU cores\n",
            "IPU available: False, using: 0 IPUs\n",
            "HPU available: False, using: 0 HPUs\n",
            "LOCAL_RANK: 0 - CUDA_VISIBLE_DEVICES: [0]\n"
          ]
        },
        {
          "output_type": "display_data",
          "data": {
            "text/plain": [
              "Testing: 0it [00:00, ?it/s]"
            ],
            "application/vnd.jupyter.widget-view+json": {
              "version_major": 2,
              "version_minor": 0,
              "model_id": "511a8f91987143e6ab93ac135fc0fe5f"
            }
          },
          "metadata": {}
        },
        {
          "output_type": "stream",
          "name": "stdout",
          "text": [
            "────────────────────────────────────────────────────────────────────────────────────────────────────────────────────────\n",
            "       Test metric             DataLoader 0\n",
            "────────────────────────────────────────────────────────────────────────────────────────────────────────────────────────\n",
            "        accuracy:           0.9498031735420227\n",
            "────────────────────────────────────────────────────────────────────────────────────────────────────────────────────────\n"
          ]
        },
        {
          "output_type": "execute_result",
          "data": {
            "text/plain": [
              "[{'accuracy:': 0.9498031735420227}]"
            ]
          },
          "metadata": {},
          "execution_count": 42
        }
      ]
    }
  ]
}